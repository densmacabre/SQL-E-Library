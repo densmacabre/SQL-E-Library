{
 "cells": [
  {
   "cell_type": "code",
   "execution_count": 1,
   "metadata": {},
   "outputs": [],
   "source": [
    "# Import modules\n",
    "from datetime import datetime, timedelta\n",
    "from faker import Faker\n",
    "import pandas as pd\n",
    "import random"
   ]
  },
  {
   "cell_type": "code",
   "execution_count": 2,
   "metadata": {},
   "outputs": [],
   "source": [
    "# Initiate faker instance\n",
    "fake = Faker()"
   ]
  },
  {
   "cell_type": "code",
   "execution_count": 3,
   "metadata": {},
   "outputs": [],
   "source": [
    "# Generate Users\n",
    "def user_gen(n_user):\n",
    "    \n",
    "    domains = ['gmail.com', 'yahoo.com', 'rocketmail.com']\n",
    "    usernames = [fake.unique.user_name() for _ in range(n_user)]\n",
    "    emails = [f\"{username}@{random.choice(domains)}\" for username in usernames]\n",
    "\n",
    "    # Set date range for the last year\n",
    "    end_date = datetime(2024, 6, 30)\n",
    "    start_date = end_date - timedelta(days=365)\n",
    "    \n",
    "    users = {\n",
    "        'user_id': [i + 1 for i in range(n_user)],\n",
    "        'username': usernames,\n",
    "        'email': emails\n",
    "    }\n",
    "\n",
    "    users_df = pd.DataFrame(users)\n",
    "\n",
    "    return users_df"
   ]
  },
  {
   "cell_type": "code",
   "execution_count": 4,
   "metadata": {},
   "outputs": [],
   "source": [
    "# Generate user\n",
    "users = user_gen(650)"
   ]
  },
  {
   "cell_type": "code",
   "execution_count": 5,
   "metadata": {},
   "outputs": [],
   "source": [
    "# Generate Libraries\n",
    "def lib_gen(n_lib):\n",
    "    \n",
    "    libraries = {\n",
    "        'library_id': [f\"L-{i:02}\" for i in range(1, n_lib + 1)],\n",
    "        'library_name': [fake.unique.company() for _ in range(n_lib)],\n",
    "        'location': [fake.country() for _ in range(n_lib)]\n",
    "    }\n",
    "\n",
    "    lib_df = pd.DataFrame(libraries)\n",
    "\n",
    "    return lib_df"
   ]
  },
  {
   "cell_type": "code",
   "execution_count": 6,
   "metadata": {},
   "outputs": [],
   "source": [
    "# Generate libraries\n",
    "libraries = lib_gen(8)"
   ]
  },
  {
   "cell_type": "code",
   "execution_count": 7,
   "metadata": {},
   "outputs": [],
   "source": [
    "# Generate Categories\n",
    "def category_gen(scraped_data):\n",
    "    \n",
    "    read_data = pd.read_csv(scraped_data)\n",
    "    unique_genres = read_data['genre'].unique()\n",
    "\n",
    "    categories = {\n",
    "        'category_id': [f\"C-{i:02}\" for i in range(1, len(unique_genres) + 1)],\n",
    "        'category_name': unique_genres\n",
    "    }\n",
    "    \n",
    "    category_df = pd.DataFrame(categories)\n",
    "\n",
    "    return category_df"
   ]
  },
  {
   "cell_type": "code",
   "execution_count": 8,
   "metadata": {},
   "outputs": [],
   "source": [
    "# Generate Categories\n",
    "categories = category_gen('books_data.csv')"
   ]
  },
  {
   "cell_type": "code",
   "execution_count": 9,
   "metadata": {},
   "outputs": [],
   "source": [
    "# Generate Publishers\n",
    "def pub_gen(n_pub):\n",
    "    \n",
    "    publishers = {\n",
    "        'publisher_id': [f\"P-{i:02}\" for i in range(1, n_pub + 1)],\n",
    "        'publisher_name': [fake.company() for _ in range(n_pub)]\n",
    "    }\n",
    "\n",
    "    pub_df = pd.DataFrame(publishers)\n",
    "\n",
    "    return pub_df"
   ]
  },
  {
   "cell_type": "code",
   "execution_count": 10,
   "metadata": {},
   "outputs": [],
   "source": [
    "# Generate Publishers\n",
    "publishers = pub_gen(60)"
   ]
  },
  {
   "cell_type": "code",
   "execution_count": 11,
   "metadata": {},
   "outputs": [],
   "source": [
    "# Generate Authors\n",
    "def authors_gen(n_authors):\n",
    "    \n",
    "    authors = {\n",
    "        'author_id': [f\"A-{i:02}\" for i in range(1, n_authors + 1)],\n",
    "        'author_name': [fake.name() for _ in range(n_authors)]\n",
    "    }\n",
    "\n",
    "    author_df = pd.DataFrame(authors)\n",
    "\n",
    "    return author_df"
   ]
  },
  {
   "cell_type": "code",
   "execution_count": 12,
   "metadata": {},
   "outputs": [],
   "source": [
    "# Generate Authors\n",
    "authors = authors_gen(365)"
   ]
  },
  {
   "cell_type": "code",
   "execution_count": 13,
   "metadata": {},
   "outputs": [],
   "source": [
    "# Generate Books\n",
    "def books_gen(scraped_data, lib_df, pub_df, author_df):\n",
    "    \n",
    "    # Generate category data and read the scraped book data\n",
    "    category_df = category_gen(scraped_data)\n",
    "    read_data = pd.read_csv(scraped_data)\n",
    "\n",
    "    # Create a mapping of genre to category_id\n",
    "    genre_to_category_id = dict(zip(category_df['category_name'], category_df['category_id']))\n",
    "\n",
    "    # Generate book data with correct category_id\n",
    "    books = {\n",
    "        'book_id': [f\"B-{i:03}\" for i in range(1, len(read_data['title']) + 1)],\n",
    "        'title': read_data['title'].tolist(),  # Use the titles from scraped data\n",
    "        'category_id': [genre_to_category_id[genre] for genre in read_data['genre']],\n",
    "        'library_id': [random.choice(lib_df['library_id']) for _ in range(len(read_data['title']))],\n",
    "        'publisher_id': [random.choice(pub_df['publisher_id']) for _ in range(len(read_data['title']))],\n",
    "        'author_id': [random.choice(author_df['author_id']) for _ in range(len(read_data['title']))],\n",
    "        'quantity': [random.randint(1, 10) for _ in range(len(read_data['title']))]\n",
    "    }\n",
    "\n",
    "    book_df = pd.DataFrame(books)\n",
    "\n",
    "    return book_df"
   ]
  },
  {
   "cell_type": "code",
   "execution_count": 14,
   "metadata": {},
   "outputs": [],
   "source": [
    "# Generate Books\n",
    "books = books_gen('books_data.csv', libraries, publishers, authors)"
   ]
  },
  {
   "cell_type": "code",
   "execution_count": 15,
   "metadata": {},
   "outputs": [],
   "source": [
    "# Generate Loans\n",
    "def loans_gen(n_loan, users_df, book_df, lib_df):\n",
    "    \n",
    "    loans = {\n",
    "        'loan_id': [i + 1 for i in range(n_loan)],\n",
    "        'user_id': [random.choice(users_df['user_id']) for _ in range(n_loan)],\n",
    "        'book_id': [random.choice(book_df['book_id']) for _ in range(n_loan)],\n",
    "        'library_id': [random.choice(lib_df['library_id']) for _ in range(n_loan)],\n",
    "        'loan_date': [],\n",
    "        'due_date': [],\n",
    "        'return_date': []\n",
    "    }\n",
    "\n",
    "    # Determine datetime explicitly\n",
    "    start_date = datetime(2023, 6, 1)\n",
    "    end_date = datetime(2024, 6, 30)\n",
    "\n",
    "    # Generate dates\n",
    "    for _ in range(n_loan):\n",
    "        loan_date = fake.date_between(start_date=start_date, end_date=end_date)  # Loans from June 2023 to June 2024\n",
    "        due_date = loan_date + timedelta(days=14)  # 2 weeks loan period\n",
    "    \n",
    "        # Randomly decide return timing:\n",
    "        return_choice = random.choices(\n",
    "            [\"on_time\", \"late\", \"not_returned\"],\n",
    "            weights=[0.6, 0.3, 0.1],\n",
    "            k=1\n",
    "        )[0]\n",
    "\n",
    "        if return_choice == \"on_time\":\n",
    "            # Returned on time\n",
    "            return_date = loan_date + timedelta(days=random.randint(1, 14))\n",
    "        elif return_choice == \"late\":\n",
    "            # Returned late within 30 days\n",
    "            return_date = loan_date + timedelta(days=random.randint(15, 30))\n",
    "        else:\n",
    "            # Not returned\n",
    "            return_date = None\n",
    "\n",
    "        loans['loan_date'].append(loan_date)\n",
    "        loans['due_date'].append(due_date)\n",
    "        loans['return_date'].append(return_date)\n",
    "\n",
    "    loan_df = pd.DataFrame(loans)\n",
    "\n",
    "    return loan_df"
   ]
  },
  {
   "cell_type": "code",
   "execution_count": 16,
   "metadata": {},
   "outputs": [],
   "source": [
    "# Generate Loans\n",
    "loans = loans_gen(2000, users, books, libraries)"
   ]
  },
  {
   "cell_type": "code",
   "execution_count": 17,
   "metadata": {},
   "outputs": [],
   "source": [
    "# Generate Holds\n",
    "def holds_gen(n_hold, users_df, book_df, lib_df):\n",
    "    \n",
    "    holds = {\n",
    "        'hold_id': [],\n",
    "        'user_id': [],\n",
    "        'book_id': [],\n",
    "        'library_id': [],\n",
    "        'hold_date': [],\n",
    "        'release_date': [] \n",
    "    }\n",
    "\n",
    "    # Track queue for each books\n",
    "    book_queue = {book_id: [] for book_id in book_df['book_id']}\n",
    "\n",
    "    # Define the start and end date for the hold period, ditto, state type explicitly\n",
    "    start_date = datetime(2023, 6, 1)\n",
    "    end_date = datetime(2024, 6, 30)\n",
    "\n",
    "    # Track holds per user\n",
    "    user_hold_count = {user_id: 0 for user_id in users_df['user_id']}\n",
    "\n",
    "    for _ in range(n_hold):\n",
    "        user_id = random.choice(users_df['user_id'])\n",
    "        \n",
    "        # Ensure the user has not already held 2 books\n",
    "        user_holds = [hold for hold in holds['user_id'] if hold == user_id]\n",
    "        if len(user_holds) >= 2:\n",
    "            continue  # Skip if the user already holds 2 books\n",
    "\n",
    "        book_id = random.choice(book_df['book_id'])\n",
    "\n",
    "        # If the book already has holds, add the user to the queue\n",
    "        if book_queue[book_id]:\n",
    "            book_queue[book_id].append(user_id)\n",
    "            hold_date = fake.date_between_dates(date_start=start_date, date_end=end_date)\n",
    "            release_date = hold_date + timedelta(weeks=1)  # Book is held for 1 week\n",
    "        else:\n",
    "            # If no holds exist, the book can be borrowed immediately\n",
    "            book_queue[book_id].append(user_id)\n",
    "            hold_date = fake.date_between_dates(date_start=start_date, date_end=end_date)\n",
    "            release_date = hold_date + timedelta(weeks=1)  # Book is held for 1 week\n",
    "        \n",
    "        # Add the new hold to the holds data\n",
    "        holds['hold_id'].append(len(holds['hold_id']) + 1)\n",
    "        holds['user_id'].append(user_id)\n",
    "        holds['book_id'].append(book_id)\n",
    "        holds['library_id'].append(random.choice(lib_df['library_id']))\n",
    "        holds['hold_date'].append(hold_date)\n",
    "        holds['release_date'].append(release_date)\n",
    "\n",
    "        # Increment the user's hold count\n",
    "        user_hold_count[user_id] += 1\n",
    "    \n",
    "    hold_df = pd.DataFrame(holds)\n",
    "\n",
    "    return hold_df"
   ]
  },
  {
   "cell_type": "code",
   "execution_count": 18,
   "metadata": {},
   "outputs": [],
   "source": [
    "# Generate Holds\n",
    "holds = holds_gen(500, users, books, libraries)"
   ]
  },
  {
   "cell_type": "code",
   "execution_count": 19,
   "metadata": {},
   "outputs": [],
   "source": [
    "# CSV converter\n",
    "def csv_convert(df_tables, filename):\n",
    "\n",
    "    csv_file = df_tables.to_csv(filename, index=False)\n",
    "    \n",
    "    return csv_file"
   ]
  },
  {
   "cell_type": "code",
   "execution_count": 23,
   "metadata": {},
   "outputs": [],
   "source": [
    "# Generate Outer layer table\n",
    "# Can be any of the generated dataframes\n",
    "csv_convert(bk, 'book_authors.csv')"
   ]
  }
 ],
 "metadata": {
  "kernelspec": {
   "display_name": "dummy",
   "language": "python",
   "name": "python3"
  },
  "language_info": {
   "codemirror_mode": {
    "name": "ipython",
    "version": 3
   },
   "file_extension": ".py",
   "mimetype": "text/x-python",
   "name": "python",
   "nbconvert_exporter": "python",
   "pygments_lexer": "ipython3",
   "version": "3.12.7"
  }
 },
 "nbformat": 4,
 "nbformat_minor": 2
}
